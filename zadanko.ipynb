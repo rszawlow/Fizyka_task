{
 "cells": [
  {
   "cell_type": "code",
   "execution_count": 1,
   "metadata": {
    "collapsed": true,
    "pycharm": {
     "name": "#%%\n"
    }
   },
   "outputs": [
    {
     "data": {
      "text/plain": "(x, k, a, \\psi(x), n, m, h̅, t)",
      "image/png": "[encoded data removed]",
      "text/latex": "$\\displaystyle \\left( x, \\  k, \\  a, \\  \\psi{\\left(x \\right)}, \\  n, \\  m, \\  \\hbar, \\  t\\right)$"
     },
     "execution_count": 1,
     "metadata": {},
     "output_type": "execute_result"
    }
   ],
   "source": [
    "\n",
    "import sympy as sp\n",
    "\n",
    "sp.init_printing()\n",
    "\n",
    "x = sp.Symbol('x', real=True)\n",
    "k = sp.Symbol('k', real=True, positive=True)\n",
    "a = sp.Symbol('a', real=True)\n",
    "i = sp.I\n",
    "n = sp.Symbol('n', integer=True)\n",
    "m = sp.Symbol('m', real=True, positive=True)\n",
    "t = sp.Symbol('t', real=True, positive=True)\n",
    "h = sp.Symbol('hbar', real=True, positive=True)\n",
    "psi = sp.Function('\\psi')\n",
    "\n",
    "x, k, a, psi(x), n, m, h, t"
   ]
  },
  {
   "cell_type": "code",
   "execution_count": 2,
   "outputs": [
    {
     "data": {
      "text/plain": "                 ___           \n                ╱ 1     ⎛π⋅n⋅x⎞\n\\psi(x) = √2⋅  ╱  ─ ⋅sin⎜─────⎟\n             ╲╱   a     ⎝  a  ⎠",
      "image/png": "[encoded data removed]",
      "text/latex": "$\\displaystyle \\psi{\\left(x \\right)} = \\sqrt{2} \\sqrt{\\frac{1}{a}} \\sin{\\left(\\frac{\\pi n x}{a} \\right)}$"
     },
     "execution_count": 2,
     "metadata": {},
     "output_type": "execute_result"
    }
   ],
   "source": [
    "eq = sp.Eq(psi(x).diff(x, 2), -k ** 2 * psi(x))\n",
    "sol = sp.dsolve(eq, psi(x), ics={psi(0): 0})\n",
    "sol = sol.subs(k, n * sp.pi / a)\n",
    "sol = sol.subs(sp.Symbol('C1'), sp.sqrt(2 / a))\n",
    "sol"
   ],
   "metadata": {
    "collapsed": false,
    "pycharm": {
     "name": "#%%\n"
    }
   }
  },
  {
   "cell_type": "code",
   "execution_count": 3,
   "outputs": [
    {
     "data": {
      "text/plain": "              ⎛π⋅n⋅x⎞    ⎛π⋅n⋅x⎞ \n-2⋅ⅈ⋅π⋅h̅⋅n⋅sin⎜─────⎟⋅cos⎜─────⎟ \n              ⎝  a  ⎠    ⎝  a  ⎠ \n─────────────────────────────────\n               a⋅a               ",
      "image/png": "[encoded data removed]",
      "text/latex": "$\\displaystyle - \\frac{2 i \\pi \\hbar n \\sin{\\left(\\frac{\\pi n x}{a} \\right)} \\cos{\\left(\\frac{\\pi n x}{a} \\right)}}{a a}$"
     },
     "execution_count": 3,
     "metadata": {},
     "output_type": "execute_result"
    }
   ],
   "source": [
    "(sol.rhs*-i*h*sol.rhs.diff(x,1))"
   ],
   "metadata": {
    "collapsed": false,
    "pycharm": {
     "name": "#%%\n"
    }
   }
  },
  {
   "cell_type": "code",
   "execution_count": 4,
   "outputs": [
    {
     "data": {
      "text/plain": "0",
      "image/png": "[encoded data removed]",
      "text/latex": "$\\displaystyle 0$"
     },
     "execution_count": 4,
     "metadata": {},
     "output_type": "execute_result"
    }
   ],
   "source": [
    "p= sp.integrate((sol.rhs*-i*h*sol.rhs.diff(x,1)),(x,0,a)).simplify()\n",
    "p"
   ],
   "metadata": {
    "collapsed": false,
    "pycharm": {
     "name": "#%%\n"
    }
   }
  },
  {
   "cell_type": "code",
   "execution_count": 5,
   "outputs": [
    {
     "data": {
      "text/plain": "   2  2  2    2⎛π⋅n⋅x⎞\n2⋅π ⋅h̅ ⋅n ⋅sin ⎜─────⎟\n               ⎝  a  ⎠\n──────────────────────\n          2           \n         a ⋅a         ",
      "image/png": "[encoded data removed]",
      "text/latex": "$\\displaystyle \\frac{2 \\pi^{2} \\hbar^{2} n^{2} \\sin^{2}{\\left(\\frac{\\pi n x}{a} \\right)}}{a a^{2}}$"
     },
     "execution_count": 5,
     "metadata": {},
     "output_type": "execute_result"
    }
   ],
   "source": [
    "(sol.rhs*(-i*h)**2*sol.rhs.diff(x,2))"
   ],
   "metadata": {
    "collapsed": false,
    "pycharm": {
     "name": "#%%\n"
    }
   }
  },
  {
   "cell_type": "code",
   "execution_count": 6,
   "outputs": [
    {
     "data": {
      "text/plain": "⎧ 2  2  2             \n⎪π ⋅h̅ ⋅n       π⋅n    \n⎪────────  for ─── ≠ 0\n⎨    2          a     \n⎪   a                 \n⎪                     \n⎩   0       otherwise ",
      "text/latex": "$\\displaystyle \\begin{cases} \\frac{\\pi^{2} \\hbar^{2} n^{2}}{a^{2}} & \\text{for}\\: \\frac{\\pi n}{a} \\neq 0 \\\\0 & \\text{otherwise} \\end{cases}$"
     },
     "execution_count": 6,
     "metadata": {},
     "output_type": "execute_result"
    }
   ],
   "source": [
    "p_kwa = sp.integrate((sol.rhs*(-i*h)**2*sol.rhs.diff(x,2)),(x,0,a)).simplify()\n",
    "p_kwa"
   ],
   "metadata": {
    "collapsed": false,
    "pycharm": {
     "name": "#%%\n"
    }
   }
  }
 ],
 "metadata": {
  "kernelspec": {
   "display_name": "Python 3",
   "language": "python",
   "name": "python3"
  },
  "language_info": {
   "codemirror_mode": {
    "name": "ipython",
    "version": 2
   },
   "file_extension": ".py",
   "mimetype": "text/x-python",
   "name": "python",
   "nbconvert_exporter": "python",
   "pygments_lexer": "ipython2",
   "version": "2.7.6"
  }
 },
 "nbformat": 4,
 "nbformat_minor": 0
}